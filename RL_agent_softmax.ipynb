{
 "cells": [
  {
   "cell_type": "markdown",
   "metadata": {},
   "source": [
    "# Shape generation with a Reinforcement Learning agent\n",
    "\n",
    "This notebook is an experiment with shape generation using fonts as datasets. (0-9 a-z A-Z)<br>\n",
    "The agent's start point is a random pixel on a random* letter/digit of the dataset. The initial state is a single 1 in the middle of a 25x25 grid. The agent explores the unknown world and will fail a lot since it doesn't know which letter it's exploring.\n",
    "\n",
    "The state is being fed through a neural network that outputs a probability matrix for the next action. <br>\n",
    "An action constitutes of picking a pixel adjacent to the current state. <br>\n",
    "The agent picks the action with the highest probability. <br>\n",
    "If that pixel is a part of the letter, the action and input state is added to a list, the success streak. <br>\n",
    "The states and actions of the success streak is used to update the Q-value network <br>\n",
    "Since the states and actions of the streak will be fed through the network for every new successful action, long streaks are extra rewarded. <br>\n",
    "The new pixel is added to the agents 25X25 scope of view and the grid is re-positioned so the new point is centered. <br>\n",
    "If the agent picks a bad action, the success streak is over and the agent will continue with the next likely action. <br>\n",
    "\n",
    "During shape generation the agent is no longer restricted by the training example. It can move freely, but will use the tactics learned during training.\n",
    "\n",
    "There is a second neural network that predicts the probability of the agent's next move being a good move. Generally, the best action is chosen during generation, but to be able to generate different results, some randomness is needed. The action will be chosen from a random distribution when the probability network outputs a low result. If the outcome of the next action is uncertain, we might as well try a random action.\n",
    "\n",
    "Examples from the dataset on top, generated shapes below. Not fantastic results, but something...\n",
    "\n",
    "![ ](dataset_generated.PNG)\n",
    "<br>\n",
    "\n",
    "'*' try a structured starting point using extremum\n"
   ]
  },
  {
   "cell_type": "code",
   "execution_count": 265,
   "metadata": {},
   "outputs": [],
   "source": [
    "#import os\n",
    "#os.chdir(\"/home/johan_lagerloef\")"
   ]
  },
  {
   "cell_type": "code",
   "execution_count": 211,
   "metadata": {},
   "outputs": [],
   "source": [
    "from PIL import Image\n",
    "import numpy as np\n",
    "import os\n",
    "\n",
    "def load_image( infilename ):\n",
    "    img = Image.open( infilename )\n",
    "    img.load()\n",
    "    data = np.asarray( img, dtype=\"int32\" )\n",
    "    return data\n",
    "\n",
    "path = '/datasets/Cone'\n",
    "flist=[]\n",
    "\n",
    "for filename in os.listdir(path):\n",
    "    #print(path+\"/\"+filename)\n",
    "    flist.append(load_image(path+\"/\"+filename))\n",
    "    \n",
    "#TODO: use pickle files instead"
   ]
  },
  {
   "cell_type": "code",
   "execution_count": 269,
   "metadata": {},
   "outputs": [
    {
     "name": "stdout",
     "output_type": "stream",
     "text": [
      "random_i: 15\n",
      "pixels: 64\n"
     ]
    },
    {
     "data": {
      "image/png": "[encoded data removed]",
      "text/plain": [
       "<matplotlib.figure.Figure at 0x7f813897e358>"
      ]
     },
     "metadata": {},
     "output_type": "display_data"
    }
   ],
   "source": [
    "x_all=np.array(flist)\n",
    "x_all=np.delete(x_all,[1,2],axis=3)\n",
    "\n",
    "def set_example(i):\n",
    "    ex=x_all[i]/255*-1+1\n",
    "    ex=(ex>0.3)*1\n",
    "    return ex\n",
    "\n",
    "num_examples=62\n",
    "\n",
    "fi=np.random.randint(num_examples)\n",
    "x_inp=set_example(fi)\n",
    "\n",
    "print(\"random_i: \"+str(fi))\n",
    "print(\"pixels: \"+str(np.count_nonzero(x_inp)))\n",
    "\n",
    "import matplotlib.pyplot as plt\n",
    "\n",
    "plt.figure(figsize=(40, 8))\n",
    "ax = plt.subplot(2, 1, 1)\n",
    "plt.imshow(x_inp.reshape(100,100), interpolation=\"nearest\")\n",
    "plt.gray()\n",
    "ax.get_xaxis().set_visible(False)\n",
    "ax.get_yaxis().set_visible(False)\n",
    "\n",
    "plt.show()"
   ]
  },
  {
   "cell_type": "code",
   "execution_count": 214,
   "metadata": {},
   "outputs": [],
   "source": [
    "from keras.layers import Input, Dense, Conv2D, MaxPooling2D, UpSampling2D, Reshape\n",
    "from keras.models import Model\n",
    "from keras import backend as K\n",
    "import tensorflow as tf\n",
    "\n",
    "def valueNetwork(x):\n",
    "    inp_size=ws*ws\n",
    "    x = Dense(256, activation='relu')(x)\n",
    "    x = Dense(128, activation='relu')(x)\n",
    "    x = Dense(128, activation='relu')(x)\n",
    "    x = Dense(128, activation='relu')(x)\n",
    "    x = Dense(256, activation='relu')(x)\n",
    "    p = Dense(inp_size, activation='softmax')(x)  \n",
    "    return p\n",
    "\n",
    "def predict_model(x):\n",
    "    inp_size=ws*ws\n",
    "    x = Dense(128, activation='relu')(x)\n",
    "    #x = Dense(32, activation='relu')(x)\n",
    "    x = Dense(32, activation='relu')(x)\n",
    "    #x = Dense(32, activation='relu')(x)\n",
    "    x = Dense(8, activation='relu')(x)\n",
    "    p = Dense(1, activation='sigmoid')(x)  \n",
    "    return p"
   ]
  },
  {
   "cell_type": "code",
   "execution_count": 215,
   "metadata": {},
   "outputs": [
    {
     "name": "stdout",
     "output_type": "stream",
     "text": [
      "[[ 0.  0.  1.  0.]\n",
      " [ 0.  1.  0.  1.]\n",
      " [ 1.  0.  0.  1.]\n",
      " [ 0.  1.  1.  0.]]\n"
     ]
    }
   ],
   "source": [
    "def outline(s_in):\n",
    "    s=np.pad(s_in,1,'constant')\n",
    "    s_0=np.roll(s,-1,axis=0)\n",
    "    s_1=np.roll(s,-1,axis=1)\n",
    "    s10=np.roll(s,1,axis=0)\n",
    "    s11=np.roll(s,1,axis=1)\n",
    "    \n",
    "    o=s_0+s_1+s10+s11\n",
    "    o=(o[1:-1,1:-1]>0)*(-s_in+1)\n",
    "    return o\n",
    "    \n",
    "t=np.zeros((4,4))\n",
    "t[2,1]=1\n",
    "t[2,2]=1\n",
    "t[1,2]=1\n",
    "print(outline(t))"
   ]
  },
  {
   "cell_type": "code",
   "execution_count": 267,
   "metadata": {},
   "outputs": [],
   "source": [
    "\n",
    "\n",
    "#window size, agents scope of view\n",
    "ws=25             \n",
    "wl=np.floor(ws/2).astype(int)\n",
    "wu=np.ceil(ws/2).astype(int)\n",
    "\n",
    "\n",
    "tf.reset_default_graph()\n",
    "\n",
    "state = tf.placeholder(tf.float32, shape=(None,ws*ws))\n",
    "Y = tf.placeholder(tf.float32, shape=(None,ws*ws))\n",
    "\n",
    "model=valueNetwork(state)\n",
    "loss = tf.reduce_mean(-tf.reduce_sum(Y*tf.log(model), reduction_indices=1))\n",
    "optimizer = tf.train.GradientDescentOptimizer(learning_rate=0.005)\n",
    "update = optimizer.minimize(loss)\n",
    "\n",
    "PY = tf.placeholder(tf.float32, shape=(None,1))\n",
    "pmodel=predict_model(state)\n",
    "ploss = tf.nn.sigmoid_cross_entropy_with_logits(labels=PY,logits=pmodel)\n",
    "poptimizer = tf.train.GradientDescentOptimizer(learning_rate=0.005)\n",
    "pupdate = poptimizer.minimize(ploss)\n",
    "\n"
   ]
  },
  {
   "cell_type": "code",
   "execution_count": 268,
   "metadata": {},
   "outputs": [
    {
     "name": "stdout",
     "output_type": "stream",
     "text": [
      "iteration: 50 loss: [[ 1756.76904297]]\n",
      "iteration: 100 loss: [[ 1607.38891602]]\n",
      "iteration: 150 loss: [[ 1572.30505371]]\n",
      "iteration: 200 loss: [[ 1554.06958008]]\n",
      "iteration: 250 loss: [[ 1484.99536133]]\n",
      "iteration: 300 loss: [[ 1470.28540039]]\n",
      "iteration: 350 loss: [[ 1458.13867188]]\n",
      "iteration: 400 loss: [[ 1422.39318848]]\n",
      "iteration: 450 loss: [[ 1425.66003418]]\n",
      "iteration: 500 loss: [[ 1411.08972168]]\n",
      "iteration: 550 loss: [[ 1394.87304688]]\n",
      "iteration: 600 loss: [[ 1360.04736328]]\n",
      "iteration: 650 loss: [[ 1371.75891113]]\n",
      "iteration: 700 loss: [[ 1277.59143066]]\n",
      "iteration: 750 loss: [[ 1384.39135742]]\n",
      "iteration: 800 loss: [[ 1377.23547363]]\n",
      "iteration: 850 loss: [[ 1356.45837402]]\n",
      "iteration: 900 loss: [[ 1341.35400391]]\n",
      "iteration: 950 loss: [[ 1342.26623535]]\n",
      "iteration: 1000 loss: [[ 1358.60290527]]\n",
      "Model saved in path: model.ckpt\n"
     ]
    }
   ],
   "source": [
    "init = tf.global_variables_initializer()\n",
    "sess = tf.Session()\n",
    "sess.run(init)\n",
    "\n",
    "loss_acc=0.0\n",
    "\n",
    "for i in range(1000):\n",
    "    fi=np.random.randint(num_examples)\n",
    "    x_inp=set_example(fi)\n",
    "    \n",
    "    startpoint=[np.random.randint(48),np.random.randint(48)] \n",
    "\n",
    "    while x_inp[startpoint[0],startpoint[1]]==0:\n",
    "        startpoint=[np.random.randint(48),np.random.randint(48)]\n",
    "    tx,ty=startpoint[0],startpoint[1]\n",
    "\n",
    "    #Initialize canvas\n",
    "    canvas=np.zeros((200,200))\n",
    "    px=100\n",
    "    py=100\n",
    "    canvas[px,py]=1\n",
    "\n",
    "    a_check=0.0\n",
    "    hits=0\n",
    "    miss=0\n",
    "    streak=0\n",
    "    streaks=[]\n",
    "    states=[]\n",
    "    rewards=[]\n",
    "    \n",
    "    wrong=np.zeros(ws*ws)\n",
    "    \n",
    "    ex_iter=48\n",
    "    for j in range(ex_iter):\n",
    "\n",
    "        s=canvas[px-wl:px+wu,py-wl:py+wu].reshape(1,ws*ws)\n",
    "        \n",
    "        p=sess.run(model, {state:s}).reshape(ws*ws)\n",
    "        p_masked=(p.reshape(ws,ws)*outline(s.reshape(ws,ws))).reshape(ws*ws)\n",
    "\n",
    "        p_masked=p_masked*(-wrong+1)\n",
    "        p_norm=p_masked/np.sum(p_masked)\n",
    "\n",
    "        action = np.random.choice(ws*ws,p=p_norm)\n",
    "\n",
    "        action_oh = np.eye(ws*ws)[action]\n",
    "\n",
    "\n",
    "        test=x_inp[tx-wl:tx+wu,ty-wl:ty+wu].reshape(ws*ws)\n",
    "\n",
    "        reward=test*action_oh\n",
    "        wrong+=((-test+1)>0)*(action_oh>0)\n",
    "        wrong=(wrong>0)*1\n",
    "\n",
    "        \n",
    "        if np.max(reward)==1:\n",
    "            \n",
    "            _,lossout = sess.run([pupdate,ploss] , {state:s, PY:np.ones((1,1))})\n",
    "            \n",
    "            hits+=1\n",
    "            streak+=1\n",
    "            s=s.reshape(ws*ws)\n",
    "            states.append(s)\n",
    "            rewards.append(reward.reshape(ws*ws))\n",
    "    \n",
    "            sess.run(update, {state:np.array(states), Y:np.array(rewards)})\n",
    "  \n",
    "            ux=action//ws-wl\n",
    "            uy=action%ws-wl  \n",
    "            px+=ux\n",
    "            py+=uy\n",
    "            tx+=ux\n",
    "            ty+=uy\n",
    "            canvas[px,py]=1\n",
    "            wrong=np.zeros(ws*ws)\n",
    "            \n",
    "        if np.max(reward)==0:\n",
    "            _,lossout = sess.run([pupdate,ploss] , {state:s, PY:np.zeros((1,1))})\n",
    "            \n",
    "            miss+=1\n",
    "            streaks.append(streak)\n",
    "            streak=0\n",
    "            states=[]\n",
    "            rewards=[]\n",
    "            \n",
    "        loss_acc+=lossout\n",
    "\n",
    "    streaks.append(streak)\n",
    "    if (i+1) % 50 == 0:\n",
    "        print(\"iteration: \"+str(i+1)+\" loss: \"+str(loss_acc))\n",
    "        loss_acc=0\n",
    "\n",
    "saver = tf.train.Saver()\n",
    "save_path = saver.save(sess, \"model.ckpt\")\n",
    "print(\"Model saved in path: %s\" % save_path)\n"
   ]
  },
  {
   "cell_type": "code",
   "execution_count": 270,
   "metadata": {},
   "outputs": [
    {
     "name": "stdout",
     "output_type": "stream",
     "text": [
      "INFO:tensorflow:Restoring parameters from model.ckpt\n"
     ]
    }
   ],
   "source": [
    "sess = tf.Session()\n",
    "sess.run(init)\n",
    "saver = tf.train.Saver()\n",
    "saver.restore(sess, \"model.ckpt\")"
   ]
  },
  {
   "cell_type": "code",
   "execution_count": 271,
   "metadata": {},
   "outputs": [
    {
     "name": "stdout",
     "output_type": "stream",
     "text": [
      "Random actions: 23Iterations: 61\n"
     ]
    },
    {
     "data": {
      "image/png": "[encoded data removed]",
      "text/plain": [
       "<matplotlib.figure.Figure at 0x7f81389baa20>"
      ]
     },
     "metadata": {},
     "output_type": "display_data"
    }
   ],
   "source": [
    "canvas=np.zeros((100,100))\n",
    "px=py=50\n",
    "canvas[px,py]=1\n",
    "ra=0\n",
    "j=0\n",
    "while j<100:\n",
    "    j+=1\n",
    "    s=canvas[px-wl:px+wu,py-wl:py+wu].reshape(1,ws*ws)\n",
    "    p=sess.run(model, {state:s}).reshape(ws*ws)\n",
    "    p=(p.reshape(ws,ws)*outline(s.reshape(ws,ws))).reshape(ws*ws)\n",
    "    p=p/np.sum(p)\n",
    "    action = np.argmax(p)\n",
    "    \n",
    "    ps=sess.run(pmodel, {state:s}).reshape(1)\n",
    "    \n",
    "    if ps<0.97:\n",
    "        ra+=1\n",
    "        action = np.random.choice(ws*ws,p=p)\n",
    "        if j>60:\n",
    "            break\n",
    "\n",
    "    ux=action//ws-wl\n",
    "    uy=action%ws-wl  \n",
    "    px+=ux\n",
    "    py+=uy\n",
    "    canvas[px,py]=1\n",
    "       \n",
    "print(\"Random actions: \"+str(ra)+\"Iterations: \"+str(j))\n",
    "\n",
    "plt.figure(figsize=(40, 8))\n",
    "ax = plt.subplot(2, 1, 1)\n",
    "im=plt.imshow(canvas, interpolation=\"nearest\")\n",
    "ax.get_xaxis().set_visible(False)\n",
    "ax.get_yaxis().set_visible(False)\n",
    "\n",
    "plt.show()   "
   ]
  }
 ],
 "metadata": {
  "kernelspec": {
   "display_name": "Python 3",
   "language": "python",
   "name": "python3"
  },
  "language_info": {
   "codemirror_mode": {
    "name": "ipython",
    "version": 3
   },
   "file_extension": ".py",
   "mimetype": "text/x-python",
   "name": "python",
   "nbconvert_exporter": "python",
   "pygments_lexer": "ipython3",
   "version": "3.5.4"
  }
 },
 "nbformat": 4,
 "nbformat_minor": 2
}
