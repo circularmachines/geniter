{
 "cells": [
  {
   "cell_type": "markdown",
   "metadata": {},
   "source": [
    "# Convolutional Autoencoder with a human-friendly latent space\n",
    "\n",
    "Autoencoders seems very useful for a design application. If we can use an AI to parametrize a large dataset of examples, the designer can use the parameters to create new design.\n",
    "\n",
    "One problem with autoencoders is that they parametrize in a non-human way. In this experiment i test a way of forcing the AI to create a latent space that is interpretable.\n",
    "\n",
    "It uses the same dimensions of all convolutional layers, but reduces the dimensionality by having a \"maxlayer\" that basically creates one-hot vectors. 8 of these layers combines into the input for the decoder.\n",
    "\n",
    "Based on this notebook:\n",
    "https://github.com/mchablani/deep-learning/blob/master/autoencoder/Convolutional_Autoencoder.ipynb\n",
    "\n"
   ]
  },
  {
   "cell_type": "code",
   "execution_count": 10,
   "metadata": {},
   "outputs": [],
   "source": [
    "%matplotlib inline\n",
    "\n",
    "import numpy as np\n",
    "import tensorflow as tf\n",
    "import matplotlib.pyplot as plt\n",
    "import os"
   ]
  },
  {
   "cell_type": "code",
   "execution_count": 11,
   "metadata": {},
   "outputs": [
    {
     "name": "stdout",
     "output_type": "stream",
     "text": [
      "Extracting MNIST_data/train-images-idx3-ubyte.gz\n",
      "Extracting MNIST_data/train-labels-idx1-ubyte.gz\n",
      "Extracting MNIST_data/t10k-images-idx3-ubyte.gz\n",
      "Extracting MNIST_data/t10k-labels-idx1-ubyte.gz\n"
     ]
    }
   ],
   "source": [
    "from tensorflow.examples.tutorials.mnist import input_data\n",
    "mnist = input_data.read_data_sets('MNIST_data', validation_size=0)"
   ]
  },
  {
   "cell_type": "code",
   "execution_count": 12,
   "metadata": {},
   "outputs": [
    {
     "data": {
      "text/plain": [
       "<matplotlib.image.AxesImage at 0x7fbc78945278>"
      ]
     },
     "execution_count": 12,
     "metadata": {},
     "output_type": "execute_result"
    },
    {
     "data": {
      "image/png": "[encoded data removed]",
      "text/plain": [
       "<Figure size 432x288 with 1 Axes>"
      ]
     },
     "metadata": {},
     "output_type": "display_data"
    }
   ],
   "source": [
    "img = mnist.train.images[3]\n",
    "plt.imshow(img.reshape((28, 28)), cmap='Greys_r')"
   ]
  },
  {
   "cell_type": "code",
   "execution_count": 13,
   "metadata": {},
   "outputs": [],
   "source": [
    "#NEWEST\n",
    "\n",
    "\n",
    "learning_rate = 0.001\n",
    "# Input and target placeholders\n",
    "inputs_ = tf.placeholder(tf.float32, (None, 28,28,1), name=\"input\")\n",
    "targets_ = tf.placeholder(tf.float32, (None, 28,28,1), name=\"target\")\n",
    "\n",
    "def encoder(input_x):\n",
    "    x = tf.layers.conv2d(inputs=input_x, filters=16, kernel_size=(5,5), padding='same', activation=tf.nn.relu)\n",
    "    x = tf.layers.conv2d(inputs=x, filters=16, kernel_size=(5,5), padding='same', activation=tf.nn.relu)\n",
    "    x = tf.layers.conv2d(inputs=x, filters=8, kernel_size=(5,5), padding='same', activation=tf.nn.sigmoid)\n",
    "    x = tf.multiply(x,input_x)\n",
    "    return x\n",
    "\n",
    "def maxlayer(x):\n",
    "    x_max = tf.reduce_max(x, axis=1, keep_dims=True)\n",
    "    x_max = tf.reduce_max(x_max, axis=2, keep_dims=True)\n",
    "    x = tf.equal(x,x_max)\n",
    "    x = tf.cast(x,tf.float32)\n",
    "    x = tf.reduce_max(x, axis=3, keep_dims=True)\n",
    "    return x\n",
    "\n",
    "def decoder(input_x):\n",
    "    x = tf.layers.conv2d(inputs=input_x, filters=16, kernel_size=(5,5), padding='same', activation=tf.nn.relu)\n",
    "    x = tf.layers.conv2d(inputs=x, filters=16, kernel_size=(5,5), padding='same', activation=tf.nn.relu)\n",
    "    x = tf.layers.conv2d(inputs=x, filters=16, kernel_size=(5,5), padding='same', activation=tf.nn.relu)\n",
    "    logits = tf.layers.conv2d(inputs=x, filters=1, kernel_size=(5,5), padding='same', activation=None)\n",
    "    return logits\n",
    "\n",
    "encoded=maxlayer(encoder(inputs_))\n",
    "\n",
    "logits=decoder(encoded)\n",
    "\n",
    "# Pass logits through sigmoid to get reconstructed image\n",
    "decoded = tf.nn.sigmoid(logits)\n",
    "\n",
    "# Pass logits through sigmoid and calculate the cross-entropy loss\n",
    "loss = tf.nn.sigmoid_cross_entropy_with_logits(labels=targets_, logits=logits)\n",
    "\n",
    "# Get cost and define the optimizer\n",
    "cost = tf.reduce_mean(loss)\n",
    "opt = tf.train.AdamOptimizer(learning_rate).minimize(cost)"
   ]
  },
  {
   "cell_type": "markdown",
   "metadata": {},
   "source": [
    "## Training"
   ]
  },
  {
   "cell_type": "code",
   "execution_count": 16,
   "metadata": {
    "scrolled": true
   },
   "outputs": [
    {
     "name": "stdout",
     "output_type": "stream",
     "text": [
      "Epoch: 1/100... Training loss: 0.6944 ... Validation loss: 0.6919\n",
      "Epoch: 1/100... Training loss: 0.4967 ... Validation loss: 0.4571\n",
      "Epoch: 1/100... Training loss: 0.3185 ... Validation loss: 0.2876\n",
      "Epoch: 1/100... Training loss: 0.2805 ... Validation loss: 0.2698\n",
      "Epoch: 1/100... Training loss: 0.2655 ... Validation loss: 0.2537\n",
      "Epoch: 1/100... Training loss: 0.2509 ... Validation loss: 0.2348\n",
      "Epoch: 1/100... Training loss: 0.2301 ... Validation loss: 0.2207\n",
      "Epoch: 1/100... Training loss: 0.2270 ... Validation loss: 0.2159\n",
      "Epoch: 1/100... Training loss: 0.2196 ... Validation loss: 0.2096\n",
      "Epoch: 1/100... Training loss: 0.2114 ... Validation loss: 0.2095\n",
      "Epoch: 1/100... Training loss: 0.2234 ... Validation loss: 0.2073\n",
      "Epoch: 1/100... Training loss: 0.2239 ... Validation loss: 0.2057\n",
      "Epoch: 1/100... Training loss: 0.2212 ... Validation loss: 0.2129\n",
      "Epoch: 1/100... Training loss: 0.2099 ... Validation loss: 0.2047\n",
      "Epoch: 1/100... Training loss: 0.2190 ... Validation loss: 0.2046\n",
      "Model saved in path: /home/johan_lagerloef/geniter/autoencoder/saved_model/model.ckpt\n",
      "Epoch: 2/100... Training loss: 0.2152 ... Validation loss: 0.2034\n",
      "Epoch: 2/100... Training loss: 0.2124 ... Validation loss: 0.2030\n",
      "Epoch: 2/100... Training loss: 0.2166 ... Validation loss: 0.2031\n",
      "Epoch: 2/100... Training loss: 0.2125 ... Validation loss: 0.2025\n",
      "Epoch: 2/100... Training loss: 0.2101 ... Validation loss: 0.2041\n",
      "Epoch: 2/100... Training loss: 0.2092 ... Validation loss: 0.2020\n",
      "Epoch: 2/100... Training loss: 0.2195 ... Validation loss: 0.2031\n",
      "Epoch: 2/100... Training loss: 0.2095 ... Validation loss: 0.2009\n",
      "Epoch: 2/100... Training loss: 0.2143 ... Validation loss: 0.2054\n",
      "Epoch: 2/100... Training loss: 0.2047 ... Validation loss: 0.2002\n",
      "Epoch: 2/100... Training loss: 0.2109 ... Validation loss: 0.2002\n",
      "Epoch: 2/100... Training loss: 0.2184 ... Validation loss: 0.2028\n",
      "Epoch: 2/100... Training loss: 0.2113 ... Validation loss: 0.1996\n",
      "Epoch: 2/100... Training loss: 0.2182 ... Validation loss: 0.1995\n",
      "Epoch: 2/100... Training loss: 0.2039 ... Validation loss: 0.2033\n",
      "Model saved in path: /home/johan_lagerloef/geniter/autoencoder/saved_model/model.ckpt\n",
      "Epoch: 3/100... Training loss: 0.2093 ... Validation loss: 0.1985\n",
      "Epoch: 3/100... Training loss: 0.2118 ... Validation loss: 0.1997\n",
      "Epoch: 3/100... Training loss: 0.2140 ... Validation loss: 0.1986\n",
      "Epoch: 3/100... Training loss: 0.2096 ... Validation loss: 0.1979\n",
      "Epoch: 3/100... Training loss: 0.2142 ... Validation loss: 0.1980\n",
      "Epoch: 3/100... Training loss: 0.2052 ... Validation loss: 0.1985\n",
      "Epoch: 3/100... Training loss: 0.2131 ... Validation loss: 0.1974\n",
      "Epoch: 3/100... Training loss: 0.2039 ... Validation loss: 0.1973\n",
      "Epoch: 3/100... Training loss: 0.2066 ... Validation loss: 0.1991\n",
      "Epoch: 3/100... Training loss: 0.2036 ... Validation loss: 0.1975\n",
      "Epoch: 3/100... Training loss: 0.2117 ... Validation loss: 0.1976\n",
      "Epoch: 3/100... Training loss: 0.2037 ... Validation loss: 0.1962\n",
      "Epoch: 3/100... Training loss: 0.2066 ... Validation loss: 0.1962\n",
      "Epoch: 3/100... Training loss: 0.2070 ... Validation loss: 0.1958\n",
      "Epoch: 3/100... Training loss: 0.2042 ... Validation loss: 0.1960\n",
      "Model saved in path: /home/johan_lagerloef/geniter/autoencoder/saved_model/model.ckpt\n",
      "Epoch: 4/100... Training loss: 0.2110 ... Validation loss: 0.1949\n",
      "Epoch: 4/100... Training loss: 0.2032 ... Validation loss: 0.1946\n",
      "Epoch: 4/100... Training loss: 0.2150 ... Validation loss: 0.1953\n",
      "Epoch: 4/100... Training loss: 0.2139 ... Validation loss: 0.1954\n",
      "Epoch: 4/100... Training loss: 0.2052 ... Validation loss: 0.1955\n",
      "Epoch: 4/100... Training loss: 0.2049 ... Validation loss: 0.1943\n",
      "Epoch: 4/100... Training loss: 0.2041 ... Validation loss: 0.1944\n",
      "Epoch: 4/100... Training loss: 0.2169 ... Validation loss: 0.1967\n",
      "Epoch: 4/100... Training loss: 0.2090 ... Validation loss: 0.1942\n",
      "Epoch: 4/100... Training loss: 0.2125 ... Validation loss: 0.1961\n",
      "Epoch: 4/100... Training loss: 0.2039 ... Validation loss: 0.1937\n",
      "Epoch: 4/100... Training loss: 0.2142 ... Validation loss: 0.1936\n",
      "Epoch: 4/100... Training loss: 0.2037 ... Validation loss: 0.1935\n",
      "Epoch: 4/100... Training loss: 0.2078 ... Validation loss: 0.1929\n",
      "Epoch: 4/100... Training loss: 0.1984 ... Validation loss: 0.1930\n",
      "Model saved in path: /home/johan_lagerloef/geniter/autoencoder/saved_model/model.ckpt\n",
      "Epoch: 5/100... Training loss: 0.2095 ... Validation loss: 0.1935\n",
      "Epoch: 5/100... Training loss: 0.1979 ... Validation loss: 0.1927\n",
      "Epoch: 5/100... Training loss: 0.2058 ... Validation loss: 0.1933\n",
      "Epoch: 5/100... Training loss: 0.2039 ... Validation loss: 0.1926\n",
      "Epoch: 5/100... Training loss: 0.2059 ... Validation loss: 0.1941\n",
      "Epoch: 5/100... Training loss: 0.2072 ... Validation loss: 0.1924\n"
     ]
    },
    {
     "ename": "KeyboardInterrupt",
     "evalue": "",
     "output_type": "error",
     "traceback": [
      "\u001b[1;31m---------------------------------------------------------------------------\u001b[0m",
      "\u001b[1;31mKeyboardInterrupt\u001b[0m                         Traceback (most recent call last)",
      "\u001b[1;32m<ipython-input-16-5ec3e7b13377>\u001b[0m in \u001b[0;36m<module>\u001b[1;34m()\u001b[0m\n\u001b[0;32m     12\u001b[0m         \u001b[0mdo_maxlayer\u001b[0m\u001b[1;33m=\u001b[0m\u001b[1;33m(\u001b[0m\u001b[0mnp\u001b[0m\u001b[1;33m.\u001b[0m\u001b[0mrandom\u001b[0m\u001b[1;33m.\u001b[0m\u001b[0mrand\u001b[0m\u001b[1;33m(\u001b[0m\u001b[1;33m)\u001b[0m\u001b[1;33m>\u001b[0m\u001b[1;36m0.05\u001b[0m\u001b[1;33m)\u001b[0m\u001b[1;33m\u001b[0m\u001b[0m\n\u001b[0;32m     13\u001b[0m         batch_cost, _ = sess.run([cost, opt], feed_dict={inputs_: imgs,\n\u001b[1;32m---> 14\u001b[1;33m                                                          targets_: imgs})\n\u001b[0m\u001b[0;32m     15\u001b[0m         \u001b[1;32mif\u001b[0m \u001b[0mii\u001b[0m\u001b[1;33m%\u001b[0m\u001b[1;36m20\u001b[0m\u001b[1;33m==\u001b[0m\u001b[1;36m0\u001b[0m\u001b[1;33m:\u001b[0m\u001b[1;33m\u001b[0m\u001b[0m\n\u001b[0;32m     16\u001b[0m             \u001b[0mimgs\u001b[0m \u001b[1;33m=\u001b[0m \u001b[0mmnist\u001b[0m\u001b[1;33m.\u001b[0m\u001b[0mtest\u001b[0m\u001b[1;33m.\u001b[0m\u001b[0mimages\u001b[0m\u001b[1;33m[\u001b[0m\u001b[1;33m:\u001b[0m\u001b[1;36m200\u001b[0m\u001b[1;33m]\u001b[0m\u001b[1;33m.\u001b[0m\u001b[0mreshape\u001b[0m\u001b[1;33m(\u001b[0m\u001b[1;33m(\u001b[0m\u001b[1;36m200\u001b[0m\u001b[1;33m,\u001b[0m \u001b[1;36m28\u001b[0m\u001b[1;33m,\u001b[0m \u001b[1;36m28\u001b[0m\u001b[1;33m,\u001b[0m \u001b[1;36m1\u001b[0m\u001b[1;33m)\u001b[0m\u001b[1;33m)\u001b[0m\u001b[1;33m\u001b[0m\u001b[0m\n",
      "\u001b[1;32m/home/johan_lagerloef/anaconda3/lib/python3.5/site-packages/tensorflow/python/client/session.py\u001b[0m in \u001b[0;36mrun\u001b[1;34m(self, fetches, feed_dict, options, run_metadata)\u001b[0m\n\u001b[0;32m    893\u001b[0m     \u001b[1;32mtry\u001b[0m\u001b[1;33m:\u001b[0m\u001b[1;33m\u001b[0m\u001b[0m\n\u001b[0;32m    894\u001b[0m       result = self._run(None, fetches, feed_dict, options_ptr,\n\u001b[1;32m--> 895\u001b[1;33m                          run_metadata_ptr)\n\u001b[0m\u001b[0;32m    896\u001b[0m       \u001b[1;32mif\u001b[0m \u001b[0mrun_metadata\u001b[0m\u001b[1;33m:\u001b[0m\u001b[1;33m\u001b[0m\u001b[0m\n\u001b[0;32m    897\u001b[0m         \u001b[0mproto_data\u001b[0m \u001b[1;33m=\u001b[0m \u001b[0mtf_session\u001b[0m\u001b[1;33m.\u001b[0m\u001b[0mTF_GetBuffer\u001b[0m\u001b[1;33m(\u001b[0m\u001b[0mrun_metadata_ptr\u001b[0m\u001b[1;33m)\u001b[0m\u001b[1;33m\u001b[0m\u001b[0m\n",
      "\u001b[1;32m/home/johan_lagerloef/anaconda3/lib/python3.5/site-packages/tensorflow/python/client/session.py\u001b[0m in \u001b[0;36m_run\u001b[1;34m(self, handle, fetches, feed_dict, options, run_metadata)\u001b[0m\n\u001b[0;32m   1122\u001b[0m     \u001b[1;32mif\u001b[0m \u001b[0mfinal_fetches\u001b[0m \u001b[1;32mor\u001b[0m \u001b[0mfinal_targets\u001b[0m \u001b[1;32mor\u001b[0m \u001b[1;33m(\u001b[0m\u001b[0mhandle\u001b[0m \u001b[1;32mand\u001b[0m \u001b[0mfeed_dict_tensor\u001b[0m\u001b[1;33m)\u001b[0m\u001b[1;33m:\u001b[0m\u001b[1;33m\u001b[0m\u001b[0m\n\u001b[0;32m   1123\u001b[0m       results = self._do_run(handle, final_targets, final_fetches,\n\u001b[1;32m-> 1124\u001b[1;33m                              feed_dict_tensor, options, run_metadata)\n\u001b[0m\u001b[0;32m   1125\u001b[0m     \u001b[1;32melse\u001b[0m\u001b[1;33m:\u001b[0m\u001b[1;33m\u001b[0m\u001b[0m\n\u001b[0;32m   1126\u001b[0m       \u001b[0mresults\u001b[0m \u001b[1;33m=\u001b[0m \u001b[1;33m[\u001b[0m\u001b[1;33m]\u001b[0m\u001b[1;33m\u001b[0m\u001b[0m\n",
      "\u001b[1;32m/home/johan_lagerloef/anaconda3/lib/python3.5/site-packages/tensorflow/python/client/session.py\u001b[0m in \u001b[0;36m_do_run\u001b[1;34m(self, handle, target_list, fetch_list, feed_dict, options, run_metadata)\u001b[0m\n\u001b[0;32m   1319\u001b[0m     \u001b[1;32mif\u001b[0m \u001b[0mhandle\u001b[0m \u001b[1;32mis\u001b[0m \u001b[1;32mNone\u001b[0m\u001b[1;33m:\u001b[0m\u001b[1;33m\u001b[0m\u001b[0m\n\u001b[0;32m   1320\u001b[0m       return self._do_call(_run_fn, self._session, feeds, fetches, targets,\n\u001b[1;32m-> 1321\u001b[1;33m                            options, run_metadata)\n\u001b[0m\u001b[0;32m   1322\u001b[0m     \u001b[1;32melse\u001b[0m\u001b[1;33m:\u001b[0m\u001b[1;33m\u001b[0m\u001b[0m\n\u001b[0;32m   1323\u001b[0m       \u001b[1;32mreturn\u001b[0m \u001b[0mself\u001b[0m\u001b[1;33m.\u001b[0m\u001b[0m_do_call\u001b[0m\u001b[1;33m(\u001b[0m\u001b[0m_prun_fn\u001b[0m\u001b[1;33m,\u001b[0m \u001b[0mself\u001b[0m\u001b[1;33m.\u001b[0m\u001b[0m_session\u001b[0m\u001b[1;33m,\u001b[0m \u001b[0mhandle\u001b[0m\u001b[1;33m,\u001b[0m \u001b[0mfeeds\u001b[0m\u001b[1;33m,\u001b[0m \u001b[0mfetches\u001b[0m\u001b[1;33m)\u001b[0m\u001b[1;33m\u001b[0m\u001b[0m\n",
      "\u001b[1;32m/home/johan_lagerloef/anaconda3/lib/python3.5/site-packages/tensorflow/python/client/session.py\u001b[0m in \u001b[0;36m_do_call\u001b[1;34m(self, fn, *args)\u001b[0m\n\u001b[0;32m   1325\u001b[0m   \u001b[1;32mdef\u001b[0m \u001b[0m_do_call\u001b[0m\u001b[1;33m(\u001b[0m\u001b[0mself\u001b[0m\u001b[1;33m,\u001b[0m \u001b[0mfn\u001b[0m\u001b[1;33m,\u001b[0m \u001b[1;33m*\u001b[0m\u001b[0margs\u001b[0m\u001b[1;33m)\u001b[0m\u001b[1;33m:\u001b[0m\u001b[1;33m\u001b[0m\u001b[0m\n\u001b[0;32m   1326\u001b[0m     \u001b[1;32mtry\u001b[0m\u001b[1;33m:\u001b[0m\u001b[1;33m\u001b[0m\u001b[0m\n\u001b[1;32m-> 1327\u001b[1;33m       \u001b[1;32mreturn\u001b[0m \u001b[0mfn\u001b[0m\u001b[1;33m(\u001b[0m\u001b[1;33m*\u001b[0m\u001b[0margs\u001b[0m\u001b[1;33m)\u001b[0m\u001b[1;33m\u001b[0m\u001b[0m\n\u001b[0m\u001b[0;32m   1328\u001b[0m     \u001b[1;32mexcept\u001b[0m \u001b[0merrors\u001b[0m\u001b[1;33m.\u001b[0m\u001b[0mOpError\u001b[0m \u001b[1;32mas\u001b[0m \u001b[0me\u001b[0m\u001b[1;33m:\u001b[0m\u001b[1;33m\u001b[0m\u001b[0m\n\u001b[0;32m   1329\u001b[0m       \u001b[0mmessage\u001b[0m \u001b[1;33m=\u001b[0m \u001b[0mcompat\u001b[0m\u001b[1;33m.\u001b[0m\u001b[0mas_text\u001b[0m\u001b[1;33m(\u001b[0m\u001b[0me\u001b[0m\u001b[1;33m.\u001b[0m\u001b[0mmessage\u001b[0m\u001b[1;33m)\u001b[0m\u001b[1;33m\u001b[0m\u001b[0m\n",
      "\u001b[1;32m/home/johan_lagerloef/anaconda3/lib/python3.5/site-packages/tensorflow/python/client/session.py\u001b[0m in \u001b[0;36m_run_fn\u001b[1;34m(session, feed_dict, fetch_list, target_list, options, run_metadata)\u001b[0m\n\u001b[0;32m   1304\u001b[0m           return tf_session.TF_Run(session, options,\n\u001b[0;32m   1305\u001b[0m                                    \u001b[0mfeed_dict\u001b[0m\u001b[1;33m,\u001b[0m \u001b[0mfetch_list\u001b[0m\u001b[1;33m,\u001b[0m \u001b[0mtarget_list\u001b[0m\u001b[1;33m,\u001b[0m\u001b[1;33m\u001b[0m\u001b[0m\n\u001b[1;32m-> 1306\u001b[1;33m                                    status, run_metadata)\n\u001b[0m\u001b[0;32m   1307\u001b[0m \u001b[1;33m\u001b[0m\u001b[0m\n\u001b[0;32m   1308\u001b[0m     \u001b[1;32mdef\u001b[0m \u001b[0m_prun_fn\u001b[0m\u001b[1;33m(\u001b[0m\u001b[0msession\u001b[0m\u001b[1;33m,\u001b[0m \u001b[0mhandle\u001b[0m\u001b[1;33m,\u001b[0m \u001b[0mfeed_dict\u001b[0m\u001b[1;33m,\u001b[0m \u001b[0mfetch_list\u001b[0m\u001b[1;33m)\u001b[0m\u001b[1;33m:\u001b[0m\u001b[1;33m\u001b[0m\u001b[0m\n",
      "\u001b[1;31mKeyboardInterrupt\u001b[0m: "
     ]
    }
   ],
   "source": [
    "sess = tf.Session()\n",
    "epochs = 10\n",
    "batch_size = 200\n",
    "sess.run(tf.global_variables_initializer())\n",
    "saver = tf.train.Saver()\n",
    "#saver.restore(sess,os.getcwd()+\"/saved_model/model.ckpt\")\n",
    "\n",
    "for e in range(epochs):\n",
    "    for ii in range(mnist.train.num_examples//batch_size):\n",
    "        batch = mnist.train.next_batch(batch_size)\n",
    "        imgs = batch[0].reshape((-1, 28, 28, 1))\n",
    "        do_maxlayer=(np.random.rand()>0.05)\n",
    "        batch_cost, _ = sess.run([cost, opt], feed_dict={inputs_: imgs,\n",
    "                                                         targets_: imgs})\n",
    "        if ii%20==0:\n",
    "            imgs = mnist.test.images[:200].reshape((200, 28, 28, 1))\n",
    "            val_cost,_=sess.run([cost, opt], feed_dict={inputs_: imgs,\n",
    "                                                         targets_: imgs})\n",
    "            print(\"Epoch: {}/{}...\".format(e+1, epochs), \"Training loss: {:.4f}\".format(batch_cost)+\" ... Validation loss: {:.4f}\".format(val_cost))\n",
    "    save_path = saver.save(sess,os.getcwd()+\"/saved_model/model.ckpt\")\n",
    "    print(\"Model saved in path: %s\" % save_path)"
   ]
  },
  {
   "cell_type": "code",
   "execution_count": 17,
   "metadata": {},
   "outputs": [
    {
     "data": {
      "image/png": "[encoded data removed]",
      "text/plain": [
       "<Figure size 1440x288 with 30 Axes>"
      ]
     },
     "metadata": {},
     "output_type": "display_data"
    }
   ],
   "source": [
    "fig, axes = plt.subplots(nrows=3, ncols=10, sharex=True, sharey=True, figsize=(20,4))\n",
    "in_imgs = mnist.test.images[0:10]\n",
    "encoding= sess.run(encoded, feed_dict={inputs_: in_imgs.reshape((10, 28, 28, 1))})\n",
    "reconstructed = sess.run(decoded, feed_dict={inputs_: in_imgs.reshape((10, 28, 28, 1))})\n",
    "\n",
    "for images, row in zip([in_imgs, encoding, reconstructed], axes):\n",
    "    for img, ax in zip(images, row):\n",
    "        ax.imshow(img.reshape((28, 28)), cmap='Greys_r')\n",
    "        ax.get_xaxis().set_visible(False)\n",
    "        ax.get_yaxis().set_visible(False)\n",
    "\n",
    "\n",
    "fig.tight_layout(pad=0.1)"
   ]
  },
  {
   "cell_type": "code",
   "execution_count": null,
   "metadata": {},
   "outputs": [],
   "source": [
    "sess.close()"
   ]
  },
  {
   "cell_type": "markdown",
   "metadata": {},
   "source": [
    "# Conclusion\n",
    "\n",
    "Images on top: Input data\n",
    "Images in the middle: The latent space\n",
    "Images on the bottom: Model output\n",
    "\n",
    "It works, the latent space is human-friendly, but the model is not good enough to be used in any serious application.\n",
    "\n",
    "As the next step i will instead experiment with VAE-GAN networks, which has proven to be able to do very good parametrization of the MNIST dataset.\n",
    "\n",
    "http://blog.otoro.net/2016/04/01/generating-large-images-from-latent-vectors/\n",
    "\n",
    "If a user interface is added on top of a model like this, maybe i can achive the similar but better result than this experiment?"
   ]
  },
  {
   "cell_type": "code",
   "execution_count": null,
   "metadata": {},
   "outputs": [],
   "source": []
  }
 ],
 "metadata": {
  "kernelspec": {
   "display_name": "Python 3",
   "language": "python",
   "name": "python3"
  },
  "language_info": {
   "codemirror_mode": {
    "name": "ipython",
    "version": 3
   },
   "file_extension": ".py",
   "mimetype": "text/x-python",
   "name": "python",
   "nbconvert_exporter": "python",
   "pygments_lexer": "ipython3",
   "version": "3.5.4"
  }
 },
 "nbformat": 4,
 "nbformat_minor": 2
}
